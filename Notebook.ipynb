{
 "cells": [
  {
   "attachments": {},
   "cell_type": "markdown",
   "metadata": {},
   "source": [
    "# OpenAI Starter Toolkit\n",
    "\n",
    "Aim: Provide a few code snippets that demonstrate how you can use the OpenAI API to build products of your own that take advantages of the recent breakthroughs in generative AI for images and text data.\n",
    "\n",
    "<a target=\"_blank\" href=\"https://colab.research.google.com/github/life-efficient/OpenAI-Starter-Toolkit/blob/main/Notebook.ipynb\">\n",
    "  <img src=\"https://colab.research.google.com/assets/colab-badge.svg\" alt=\"Open In Colab\"/>\n",
    "</a>"
   ]
  },
  {
   "attachments": {},
   "cell_type": "markdown",
   "metadata": {},
   "source": [
    "## Setting Up\n",
    "\n",
    "To set up, you'll need to install the `openai` Python library, and then set your API key. You create/find an API key on your[OpenAI console](https://platform.openai.com/account/api-keys).\n",
    "\n",
    "I've seen some people have trouble with this, so if you run into issues:\n",
    "- Ensure you've[created an account on OpenAI](https://platform.openai.com/overview#:~:text=Examples-,Log,-in)\n",
    "- Ensure you've created an API key[on your account](https://platform.openai.com/account/api-keys)\n",
    "- Ensure you've replaced my placeholder API key in the next code cell with your own API key\n",
    "- Ensure you've set up a paid account on OpenAI\n",
    "- You will need to add a credit card, but don't worry, the amount of requests we will make will only cost a few pence\n",
    "- Try [creating a different API key](https://platform.openai.com/account/api-keys) and changing it in the code things still don't work\n"
   ]
  },
  {
   "cell_type": "code",
   "execution_count": null,
   "metadata": {},
   "outputs": [],
   "source": [
    "import openai\n",
    "\n",
    "openai.api_key = \"YOUR_API_KEY\""
   ]
  },
  {
   "attachments": {},
   "cell_type": "markdown",
   "metadata": {},
   "source": [
    "## Requesting Text Completions\n",
    "\n",
    "Firstly, let's get a hang of how to use one of the chat-optimised models, `gpt-3.5-turbo`.\n",
    "\n",
    "As I always emphasise, the real skill is being able to read the documentation. Check it out [here](https://platform.openai.com/docs/api-reference/completions).\n",
    "\n",
    "Make sure to take a look into the different parameters and what they do.\n",
    "- Pay particular attention to the messages keyword argument, which represents a list of messages in the chat so far\n",
    "- Take advantage of the \"`system`\" role to explain how the model should act (read more in the documentation).\n",
    "    - E.g. You are a friendly and polite personal assistant who provides succint and clear answers\n",
    "    - E.g. You are a cowboy in a video game world named \"Westworld\" who ends every sentence with \"Yee-Haw\""
   ]
  },
  {
   "cell_type": "code",
   "execution_count": null,
   "metadata": {},
   "outputs": [],
   "source": [
    "def get_completion(messages):\n",
    "\n",
    "    completion = openai.ChatCompletion.create(\n",
    "        model=\"gpt-3.5-turbo\",\n",
    "        messages=messages\n",
    "    )\n",
    "\n",
    "    prediction = completion.choices[0].message[\"content\"]\n",
    "    return prediction\n",
    "\n",
    "\n",
    "print(\"EXAMPLE 1\")\n",
    "messages = [\n",
    "    {\"role\": \"user\", \"content\": \"What is the meaning of life?\"}\n",
    "]\n",
    "print(get_completion(messages))\n",
    "\n",
    "\n",
    "print(\"EXAMPLE 2\")\n",
    "messages = [\n",
    "    {\"role\": \"user\", \"content\": \"Hi, how are you?\"},\n",
    "    {\"role\": \"assistant\", \"content\": \"Hi, how are you?\"},\n",
    "    {\"role\": \"user\", \"content\": \"I'm good. What's for lunch?\"}\n",
    "]\n",
    "print(get_completion(messages))\n"
   ]
  },
  {
   "attachments": {},
   "cell_type": "markdown",
   "metadata": {},
   "source": [
    "## Generate an Image from a Prompt\n",
    "\n",
    "The cell below provides a snippet that can be used to generate images given a description of the image (a prompt)."
   ]
  },
  {
   "cell_type": "code",
   "execution_count": null,
   "metadata": {},
   "outputs": [],
   "source": [
    "def generate_image_from_prompt(prompt):\n",
    "    response = openai.Image.create(\n",
    "        prompt=prompt,\n",
    "        n=2,\n",
    "        size=\"256x256\"\n",
    "    )\n",
    "    return response\n",
    "\n",
    "\n",
    "image = generate_image_from_prompt(\"A painting of a cat by Pablo Picasso.\")\n",
    "print(image)\n"
   ]
  },
  {
   "attachments": {},
   "cell_type": "markdown",
   "metadata": {},
   "source": [
    "## Challenge\n",
    "\n",
    "Spend 10 minutes writing some Python code that uses the two functions defined above to create a new application. \n",
    "\n",
    "Inspiration:\n",
    "- Create a personal assistant that replies in the style of the user's favourite celebrity, which they can input\n",
    "- Create an assistant that summarises a paragraph of text provided by the user, transforms it into an image prompt, and then downloads it from the result URL provided\n",
    "\n",
    "Think about what kind of code would be required to wrap around the provided functions."
   ]
  }
 ],
 "metadata": {
  "language_info": {
   "name": "python"
  },
  "orig_nbformat": 4
 },
 "nbformat": 4,
 "nbformat_minor": 2
}
